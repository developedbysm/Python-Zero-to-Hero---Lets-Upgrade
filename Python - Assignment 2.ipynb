{
 "cells": [
  {
   "cell_type": "markdown",
   "id": "a376ce82",
   "metadata": {},
   "source": [
    "## List"
   ]
  },
  {
   "cell_type": "code",
   "execution_count": 1,
   "id": "999df1e8",
   "metadata": {},
   "outputs": [],
   "source": [
    "list = [2,3,3,7,3,4,5,6,5,33,2,2,7,8,7,7,9,10]"
   ]
  },
  {
   "cell_type": "code",
   "execution_count": 2,
   "id": "e51b8c4f",
   "metadata": {},
   "outputs": [
    {
     "name": "stdout",
     "output_type": "stream",
     "text": [
      "Enter a value to be removed from list : 7\n"
     ]
    }
   ],
   "source": [
    "val=int(input(\"Enter a value to be removed from list : \"))"
   ]
  },
  {
   "cell_type": "markdown",
   "id": "5d4e478e",
   "metadata": {},
   "source": [
    "### User defined function to remove occurance of an elemnt throughout the list"
   ]
  },
  {
   "cell_type": "code",
   "execution_count": 3,
   "id": "d2f4d20d",
   "metadata": {},
   "outputs": [],
   "source": [
    "def rem(list,val):\n",
    "    fin_list= [i for i in list if i!=val]\n",
    "    return fin_list"
   ]
  },
  {
   "cell_type": "code",
   "execution_count": 4,
   "id": "904dd0f7",
   "metadata": {},
   "outputs": [
    {
     "name": "stdout",
     "output_type": "stream",
     "text": [
      "original list  [2, 3, 3, 7, 3, 4, 5, 6, 5, 33, 2, 2, 7, 8, 7, 7, 9, 10]\n"
     ]
    }
   ],
   "source": [
    "print(\"original list \",list)"
   ]
  },
  {
   "cell_type": "markdown",
   "id": "2bb852f2",
   "metadata": {},
   "source": [
    "### New list"
   ]
  },
  {
   "cell_type": "code",
   "execution_count": 5,
   "id": "89673ab2",
   "metadata": {},
   "outputs": [
    {
     "name": "stdout",
     "output_type": "stream",
     "text": [
      "new list  [2, 3, 3, 3, 4, 5, 6, 5, 33, 2, 2, 8, 9, 10]\n"
     ]
    }
   ],
   "source": [
    "print(\"new list \",rem(list,val))"
   ]
  }
 ],
 "metadata": {
  "kernelspec": {
   "display_name": "Python 3",
   "language": "python",
   "name": "python3"
  },
  "language_info": {
   "codemirror_mode": {
    "name": "ipython",
    "version": 3
   },
   "file_extension": ".py",
   "mimetype": "text/x-python",
   "name": "python",
   "nbconvert_exporter": "python",
   "pygments_lexer": "ipython3",
   "version": "3.8.10"
  }
 },
 "nbformat": 4,
 "nbformat_minor": 5
}
