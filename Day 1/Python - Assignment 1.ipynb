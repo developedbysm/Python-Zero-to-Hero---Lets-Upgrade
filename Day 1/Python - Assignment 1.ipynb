{
 "cells": [
  {
   "cell_type": "markdown",
   "id": "ec5e6dbf",
   "metadata": {},
   "source": [
    "### Take input"
   ]
  },
  {
   "cell_type": "code",
   "execution_count": 1,
   "id": "35c2b0ab",
   "metadata": {},
   "outputs": [
    {
     "name": "stdout",
     "output_type": "stream",
     "text": [
      "enter the number of elements you want in a list\n",
      "5\n"
     ]
    }
   ],
   "source": [
    "print(\"enter the number of elements you want in a list\")\n",
    "n=int(input())"
   ]
  },
  {
   "cell_type": "markdown",
   "id": "abde295b",
   "metadata": {},
   "source": [
    "### Getting input list"
   ]
  },
  {
   "cell_type": "code",
   "execution_count": 2,
   "id": "e51a4a4c",
   "metadata": {},
   "outputs": [
    {
     "name": "stdout",
     "output_type": "stream",
     "text": [
      "12\n",
      "23\n",
      "34\n",
      "-98\n",
      "3\n",
      "The orginal list is :  [12, 23, 34, -98, 3]\n"
     ]
    }
   ],
   "source": [
    "list=[]\n",
    "\n",
    "for i in range(n):\n",
    "    inp=int(input())\n",
    "    list.append(inp)\n",
    "\n",
    "print(\"The orginal list is : \",list)"
   ]
  },
  {
   "cell_type": "markdown",
   "id": "c2ee307f",
   "metadata": {},
   "source": [
    "### sorting in descending order"
   ]
  },
  {
   "cell_type": "code",
   "execution_count": 3,
   "id": "01c2c2b8",
   "metadata": {},
   "outputs": [],
   "source": [
    "list.sort(reverse=True)"
   ]
  },
  {
   "cell_type": "code",
   "execution_count": 4,
   "id": "3f489502",
   "metadata": {},
   "outputs": [
    {
     "name": "stdout",
     "output_type": "stream",
     "text": [
      "Descending order of the list is :  [34, 23, 12, 3, -98]\n"
     ]
    }
   ],
   "source": [
    "print(\"Descending order of the list is : \",list)"
   ]
  }
 ],
 "metadata": {
  "kernelspec": {
   "display_name": "Python 3",
   "language": "python",
   "name": "python3"
  },
  "language_info": {
   "codemirror_mode": {
    "name": "ipython",
    "version": 3
   },
   "file_extension": ".py",
   "mimetype": "text/x-python",
   "name": "python",
   "nbconvert_exporter": "python",
   "pygments_lexer": "ipython3",
   "version": "3.8.10"
  }
 },
 "nbformat": 4,
 "nbformat_minor": 5
}
