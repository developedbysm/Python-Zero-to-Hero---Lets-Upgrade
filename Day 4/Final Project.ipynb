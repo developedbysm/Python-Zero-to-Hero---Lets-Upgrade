{
 "cells": [
  {
   "cell_type": "markdown",
   "metadata": {},
   "source": [
    "## <center> Assignment4(Final Project)"
   ]
  },
  {
   "cell_type": "markdown",
   "metadata": {},
   "source": [
    "#### Question for Final project (Python)\n",
    ">Hey you are a chemist from India and you work with degree celsius in your day to day life but due to a project your company had collaborated with a MNC company, where the chemists use degree frainite for their purposes, and to maintain collaboration consistent we want to have a easy degree conversion, \n",
    "\n",
    ">Please develop a python based degree converter which takes °C value and give you output of °F \n"
   ]
  },
  {
   "cell_type": "markdown",
   "metadata": {},
   "source": [
    "### Collecting the celsius input from the user"
   ]
  },
  {
   "cell_type": "code",
   "execution_count": 1,
   "metadata": {},
   "outputs": [
    {
     "name": "stdout",
     "output_type": "stream",
     "text": [
      "Enter temperature in Celsius: 50\n"
     ]
    }
   ],
   "source": [
    "celsius = float(input('Enter temperature in Celsius: '))  "
   ]
  },
  {
   "cell_type": "markdown",
   "metadata": {},
   "source": [
    "### Calculating the temperature in Fahrenheit  "
   ]
  },
  {
   "cell_type": "code",
   "execution_count": 2,
   "metadata": {},
   "outputs": [
    {
     "name": "stdout",
     "output_type": "stream",
     "text": [
      "50.0  Celsius is equal to 122.0 degree Fahrenheit\n"
     ]
    }
   ],
   "source": [
    "#Formula for conversion ___°C × 9/5) + 32 = ___°F where (9/5=1.8)\n",
    "fahrenheit = (celsius * 1.8) + 32  \n",
    "print('%0.1f  Celsius is equal to %0.1f degree Fahrenheit'%(celsius,fahrenheit))  "
   ]
  }
 ],
 "metadata": {
  "kernelspec": {
   "display_name": "Python 3",
   "language": "python",
   "name": "python3"
  },
  "language_info": {
   "codemirror_mode": {
    "name": "ipython",
    "version": 3
   },
   "file_extension": ".py",
   "mimetype": "text/x-python",
   "name": "python",
   "nbconvert_exporter": "python",
   "pygments_lexer": "ipython3",
   "version": "3.8.10"
  }
 },
 "nbformat": 4,
 "nbformat_minor": 4
}
