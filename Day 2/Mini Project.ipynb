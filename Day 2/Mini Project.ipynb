{
 "cells": [
  {
   "cell_type": "code",
   "execution_count": 1,
   "id": "2dbe2e31",
   "metadata": {},
   "outputs": [],
   "source": [
    "import random\n",
    "import string"
   ]
  },
  {
   "cell_type": "code",
   "execution_count": 2,
   "id": "cde1e91a",
   "metadata": {},
   "outputs": [],
   "source": [
    "len = 6\n",
    "OTP = \"\"\n",
    "Character = string.ascii_letters + string.digits"
   ]
  },
  {
   "cell_type": "code",
   "execution_count": 3,
   "id": "a3c4852e",
   "metadata": {},
   "outputs": [],
   "source": [
    "for i in range(len):\n",
    "    OTP = OTP + random.choice(Character)"
   ]
  },
  {
   "cell_type": "code",
   "execution_count": 4,
   "id": "27f538d9",
   "metadata": {},
   "outputs": [
    {
     "name": "stdout",
     "output_type": "stream",
     "text": [
      "OTP is: x7U4QI\n"
     ]
    }
   ],
   "source": [
    "print(f\"OTP is: {OTP}\")"
   ]
  }
 ],
 "metadata": {
  "kernelspec": {
   "display_name": "Python 3",
   "language": "python",
   "name": "python3"
  },
  "language_info": {
   "codemirror_mode": {
    "name": "ipython",
    "version": 3
   },
   "file_extension": ".py",
   "mimetype": "text/x-python",
   "name": "python",
   "nbconvert_exporter": "python",
   "pygments_lexer": "ipython3",
   "version": "3.8.10"
  }
 },
 "nbformat": 4,
 "nbformat_minor": 5
}
