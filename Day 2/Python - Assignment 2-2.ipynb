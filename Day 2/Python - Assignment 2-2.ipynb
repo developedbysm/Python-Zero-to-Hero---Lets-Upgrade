{
 "cells": [
  {
   "cell_type": "markdown",
   "id": "0849dd7e",
   "metadata": {},
   "source": [
    "### User defined function to check for Pangram"
   ]
  },
  {
   "cell_type": "code",
   "execution_count": 1,
   "id": "4a523f3f",
   "metadata": {},
   "outputs": [],
   "source": [
    "import string\n",
    "def pangram(str):\n",
    "   alphabet = \"abcdefghijklmnopqrstuvwxyz\"\n",
    "   for char in alphabet:\n",
    "      if char not in str.lower():\n",
    "         return False\n",
    "   return True"
   ]
  },
  {
   "cell_type": "markdown",
   "id": "44c0c72f",
   "metadata": {},
   "source": [
    "### Taking input"
   ]
  },
  {
   "cell_type": "code",
   "execution_count": 2,
   "id": "3fa24adf",
   "metadata": {},
   "outputs": [
    {
     "name": "stdout",
     "output_type": "stream",
     "text": [
      "enter a string :Pack my box with five-dozen liquor jugs\n"
     ]
    }
   ],
   "source": [
    "string = str(input(\"enter a string :\"))"
   ]
  },
  {
   "cell_type": "code",
   "execution_count": 3,
   "id": "e541b04d",
   "metadata": {},
   "outputs": [
    {
     "name": "stdout",
     "output_type": "stream",
     "text": [
      "Yes,The string is a pangram\n"
     ]
    }
   ],
   "source": [
    "if(pangram(string) == True):\n",
    "   print(\"Yes,The string is a pangram\")\n",
    "else:\n",
    "   print(\"No,The string is not a pangram\")"
   ]
  }
 ],
 "metadata": {
  "kernelspec": {
   "display_name": "Python 3",
   "language": "python",
   "name": "python3"
  },
  "language_info": {
   "codemirror_mode": {
    "name": "ipython",
    "version": 3
   },
   "file_extension": ".py",
   "mimetype": "text/x-python",
   "name": "python",
   "nbconvert_exporter": "python",
   "pygments_lexer": "ipython3",
   "version": "3.8.10"
  }
 },
 "nbformat": 4,
 "nbformat_minor": 5
}
