{
 "cells": [
  {
   "cell_type": "markdown",
   "id": "ec5e6dbf",
   "metadata": {},
   "source": [
    "### Take input"
   ]
  },
  {
   "cell_type": "code",
   "execution_count": 18,
   "id": "35c2b0ab",
   "metadata": {},
   "outputs": [
    {
     "name": "stdout",
     "output_type": "stream",
     "text": [
      "enter the number of elements you want in a list\n",
      "10\n"
     ]
    }
   ],
   "source": [
    "print(\"enter the number of elements you want in a list\")\n",
    "n=int(input())"
   ]
  },
  {
   "cell_type": "markdown",
   "id": "abde295b",
   "metadata": {},
   "source": [
    "### Getting input list"
   ]
  },
  {
   "cell_type": "code",
   "execution_count": 20,
   "id": "e51a4a4c",
   "metadata": {},
   "outputs": [
    {
     "name": "stdout",
     "output_type": "stream",
     "text": [
      "-2\n",
      "4\n",
      "-5\n",
      "4\n",
      "7\n",
      "6\n",
      "8\n",
      "3\n",
      "12\n",
      "-17\n",
      "The orginal list is :  [-2, 4, -5, 4, 7, 6, 8, 3, 12, -17]\n"
     ]
    }
   ],
   "source": [
    "list=[]\n",
    "\n",
    "for i in range(n):\n",
    "    inp=int(input())\n",
    "    list.append(inp)\n",
    "\n",
    "print(\"The orginal list is : \",list)"
   ]
  },
  {
   "cell_type": "markdown",
   "id": "c2ee307f",
   "metadata": {},
   "source": [
    "### sorting in descending order"
   ]
  },
  {
   "cell_type": "code",
   "execution_count": 24,
   "id": "01c2c2b8",
   "metadata": {},
   "outputs": [],
   "source": [
    "list.sort(reverse=True)"
   ]
  },
  {
   "cell_type": "code",
   "execution_count": 25,
   "id": "3f489502",
   "metadata": {},
   "outputs": [
    {
     "name": "stdout",
     "output_type": "stream",
     "text": [
      "Descending order of the list is :  [12, 8, 7, 6, 4, 4, 3, -2, -5, -17]\n"
     ]
    }
   ],
   "source": [
    "print(\"Descending order of the list is : \",list)"
   ]
  },
  {
   "cell_type": "code",
   "execution_count": null,
   "id": "2633a1b0",
   "metadata": {},
   "outputs": [],
   "source": []
  }
 ],
 "metadata": {
  "kernelspec": {
   "display_name": "Python 3",
   "language": "python",
   "name": "python3"
  },
  "language_info": {
   "codemirror_mode": {
    "name": "ipython",
    "version": 3
   },
   "file_extension": ".py",
   "mimetype": "text/x-python",
   "name": "python",
   "nbconvert_exporter": "python",
   "pygments_lexer": "ipython3",
   "version": "3.8.10"
  }
 },
 "nbformat": 4,
 "nbformat_minor": 5
}
